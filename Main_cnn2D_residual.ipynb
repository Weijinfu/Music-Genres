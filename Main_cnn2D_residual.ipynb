{
 "cells": [
  {
   "cell_type": "code",
   "execution_count": 1,
   "metadata": {},
   "outputs": [],
   "source": [
    "import torch\n",
    "import matplotlib.pyplot as plt\n",
    "import librosa\n",
    "import json\n",
    "from torch import nn\n",
    "import numpy as np\n",
    "import d2l.torch as d2l\n",
    "from torch.utils.data import DataLoader,TensorDataset\n",
    "import math\n",
    "import random\n"
   ]
  },
  {
   "cell_type": "code",
   "execution_count": 2,
   "metadata": {},
   "outputs": [],
   "source": [
    "DATA_DIR = './genres'\n",
    "JSON_PATH = 'data.json'\n",
    "LEARNING_RATE = 1e-3\n",
    "WEIGHT_DECAY = 0.9\n",
    "TRAIN_OVDER_ALL = 0.7\n",
    "BATCH_SIZE = 32\n",
    "SAMPLE_RATE = 22050\n",
    "TRACK_DURATION = 30 # seconds\n",
    "SAMPLE_PER_TRACK = SAMPLE_RATE * TRACK_DURATION\n",
    "if torch.cuda.is_available():\n",
    "    device = 'cuda'\n",
    "else:\n",
    "    device = 'cpu'"
   ]
  },
  {
   "cell_type": "code",
   "execution_count": 3,
   "metadata": {},
   "outputs": [],
   "source": [
    "def load_data(json_path):\n",
    "    with open(json_path,'r') as f:\n",
    "        data = json.load(f,encoding='gb18030')\n",
    "    X, y = np.array(data['mfcc']), np.array(data['labels'])\n",
    "    return X, y\n",
    "\n",
    "X, y = load_data(JSON_PATH) \n",
    "X = np.expand_dims(X,1).astype(np.float32)\n",
    "X, y = torch.from_numpy(X), torch.from_numpy(y)\n",
    "\n",
    "data_loader = TensorDataset(X,y)"
   ]
  },
  {
   "cell_type": "code",
   "execution_count": null,
   "metadata": {},
   "outputs": [],
   "source": [
    "def split_train_test(data_loader,ratio=0.7):\n",
    "    cnt = dict()\n",
    "    for X,y in data_loader:\n",
    "        if y.item() in cnt.keys():\n",
    "            cnt[y.item()]+=ratio\n",
    "        else:\n",
    "            cnt[y.item()]=ratio\n",
    "    \n",
    "    train_dataloader = []\n",
    "    test_dataloader = []\n",
    "    index = [i for i in range(len(data_loader))]\n",
    "    random.shuffle(index)\n",
    "    for i in range(len(index)):\n",
    "        X,y = data_loader[index[i]]\n",
    "        cnt[y.item()]-=1\n",
    "        if cnt[y.item()]>=0:\n",
    "            train_dataloader.append((X,y))\n",
    "        else :\n",
    "            test_dataloader.append((X,y))\n",
    "    return train_dataloader, test_dataloader"
   ]
  },
  {
   "cell_type": "code",
   "execution_count": null,
   "metadata": {},
   "outputs": [],
   "source": [
    "train_dataloader, test_dataloader = split_train_test(data_loader,TRAIN_OVDER_ALL)\n",
    "train_dataloader = DataLoader(train_dataloader,batch_size=BATCH_SIZE)\n",
    "test_dataloader = DataLoader(test_dataloader,batch_size=BATCH_SIZE)"
   ]
  },
  {
   "cell_type": "code",
   "execution_count": null,
   "metadata": {},
   "outputs": [],
   "source": [
    "def train(model, train_dataloader, test_dataloader, optimizer, loss_fn, device,\n",
    "          epochs):\n",
    "    animator = d2l.Animator(xlabel='epoch',\n",
    "                            xlim=[1, epochs],\n",
    "                            ylim=[0, 1],\n",
    "                            legend=['train acc', 'test acc'])\n",
    "    n_batches = len(train_dataloader)\n",
    "    for epoch in range(epochs):\n",
    "        metric = d2l.Accumulator(2)\n",
    "        model.train()\n",
    "        for i, (X, y) in enumerate(train_dataloader):\n",
    "            X, y = X.to(device), y.to(device)\n",
    "            predict = model(X)\n",
    "            optimizer.zero_grad()\n",
    "            loss = loss_fn(predict, y.long()).sum()\n",
    "            loss.backward()\n",
    "            with torch.no_grad():\n",
    "                metric.add(d2l.accuracy(predict, y), X.shape[0])\n",
    "            optimizer.step()\n",
    "            train_acc = metric[0] / metric[1]\n",
    "            if (i + 1) % (n_batches // 5) == 0 or i == n_batches - 1:\n",
    "                animator.add(epoch + (i + 1) / n_batches, (train_acc, None))\n",
    "        test_acc = d2l.evaluate_accuracy_gpu(model, test_dataloader)\n",
    "        animator.add(epoch + 1, (None, test_acc))\n",
    "    print(f'train acc {train_acc:.3f}, '\n",
    "          f'test acc {test_acc:.3f}')\n"
   ]
  },
  {
   "cell_type": "code",
   "execution_count": null,
   "metadata": {},
   "outputs": [],
   "source": [
    "class CNN(nn.Module):\n",
    "    def __init__(self, num_classes):\n",
    "        super().__init__()\n",
    "        self.conv1 = nn.Sequential(\n",
    "            nn.Conv2d(1, 16, kernel_size=3, padding=1),\n",
    "            nn.BatchNorm2d(16),\n",
    "            nn.ReLU(),\n",
    "            nn.Conv2d(16, 64, kernel_size=3, padding=1),\n",
    "            nn.BatchNorm2d(64),\n",
    "            nn.ReLU(),\n",
    "            nn.MaxPool2d(kernel_size=2)\n",
    "        )\n",
    "\n",
    "        self.conv2 = nn.Sequential(\n",
    "            nn.Conv2d(64, 64, kernel_size=3, padding=1),\n",
    "            nn.BatchNorm2d(64),\n",
    "            nn.ReLU(),\n",
    "            nn.Conv2d(64, 64, kernel_size=3, padding=1),\n",
    "            nn.BatchNorm2d(64),\n",
    "            nn.ReLU(),\n",
    "        )\n",
    "        self.conv3 = nn.Sequential(\n",
    "            nn.Conv2d(64, 64, kernel_size=3, padding=1),\n",
    "            nn.BatchNorm2d(64),\n",
    "            nn.ReLU(),\n",
    "            nn.Conv2d(64, 64, kernel_size=3, padding=1),\n",
    "            nn.BatchNorm2d(64),\n",
    "            nn.ReLU(),\n",
    "        )\n",
    "        self.pool = nn.MaxPool2d(kernel_size=2)\n",
    "        self.classifier = nn.Sequential(\n",
    "            nn.Flatten(),\n",
    "            nn.Linear(1024, 512),\n",
    "            nn.ReLU(),\n",
    "            nn.Linear(512, 128),\n",
    "            nn.ReLU(),\n",
    "            nn.Linear(128, num_classes)\n",
    "        )\n",
    "\n",
    "    def forward(self, x):\n",
    "        x = self.conv1(x)\n",
    "        x = self.conv2(x) + x #删除+x为去除残差\n",
    "        x = self.pool(x)\n",
    "        x = self.conv3(x) + x\n",
    "        x = self.pool(x)\n",
    "        x = self.classifier(x)\n",
    "        return x"
   ]
  },
  {
   "cell_type": "code",
   "execution_count": null,
   "metadata": {},
   "outputs": [],
   "source": [
    "model = CNN(10).to(device) \n",
    "optimizer = torch.optim.AdamW(model.parameters(), lr=3e-4,weight_decay=1e-3)\n",
    "loss_fn = nn.CrossEntropyLoss()"
   ]
  },
  {
   "cell_type": "code",
   "execution_count": null,
   "metadata": {},
   "outputs": [],
   "source": [
    "train(model,train_dataloader,test_dataloader,optimizer,loss_fn,device,100)"
   ]
  },
  {
   "cell_type": "code",
   "execution_count": null,
   "metadata": {},
   "outputs": [],
   "source": []
  }
 ],
 "metadata": {
  "interpreter": {
   "hash": "b973450476c202d32ef6e6ea10102057a0232569bcac3ec1af7a0f01a8fe24ac"
  },
  "kernelspec": {
   "display_name": "Python 3.8.13 ('pytorch')",
   "language": "python",
   "name": "python3"
  },
  "language_info": {
   "codemirror_mode": {
    "name": "ipython",
    "version": 3
   },
   "file_extension": ".py",
   "mimetype": "text/x-python",
   "name": "python",
   "nbconvert_exporter": "python",
   "pygments_lexer": "ipython3",
   "version": "3.8.13"
  },
  "orig_nbformat": 4
 },
 "nbformat": 4,
 "nbformat_minor": 2
}
