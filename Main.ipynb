{
 "cells": [
  {
   "cell_type": "code",
   "execution_count": 1,
   "metadata": {},
   "outputs": [],
   "source": [
    "import torch\n",
    "import matplotlib.pyplot as plt\n",
    "import librosa\n",
    "import json\n",
    "from torch import nn\n",
    "import numpy as np\n",
    "import d2l.torch as d2l\n",
    "from torch.utils.data import DataLoader,TensorDataset\n",
    "import math\n",
    "import random\n"
   ]
  },
  {
   "cell_type": "code",
   "execution_count": 2,
   "metadata": {},
   "outputs": [],
   "source": [
    "DATA_DIR = './genres'\n",
    "JSON_PATH = 'data.json'\n",
    "LEARNING_RATE = 1e-3\n",
    "WEIGHT_DECAY = 0.9\n",
    "TRAIN_OVDER_ALL = 0.7\n",
    "BATCH_SIZE = 32\n",
    "SAMPLE_RATE = 22050\n",
    "TRACK_DURATION = 30 # seconds\n",
    "SAMPLE_PER_TRACK = SAMPLE_RATE * TRACK_DURATION\n",
    "if torch.cuda.is_available():\n",
    "    device = 'cuda'\n",
    "else:\n",
    "    device = 'cpu'"
   ]
  },
  {
   "cell_type": "code",
   "execution_count": 3,
   "metadata": {},
   "outputs": [
    {
     "name": "stdout",
     "output_type": "stream",
     "text": [
      "Processing:genres\\blues\n",
      "Processing:genres\\classical\n",
      "Processing:genres\\country\n",
      "Processing:genres\\disco\n",
      "Processing:genres\\hiphop\n",
      "Processing:genres\\jazz\n",
      "Processing:genres\\metal\n",
      "Processing:genres\\pop\n",
      "Processing:genres\\reggae\n",
      "Processing:genres\\rock\n",
      "{'mapping': ['genres\\\\blues', 'genres\\\\classical', 'genres\\\\country', 'genres\\\\disco', 'genres\\\\hiphop', 'genres\\\\jazz', 'genres\\\\metal', 'genres\\\\pop', 'genres\\\\reggae', 'genres\\\\rock'], 'labels': [], 'mfcc': []}\n"
     ]
    }
   ],
   "source": [
    "def save_json(data_path,json_path,n_mfcc=13,n_fft=2048,hop_len=512,n_segments=5):#using mfcc\n",
    "    '''\n",
    "        :n_segments :Number of segments we want to divide a sample track into\n",
    "    '''\n",
    "    data = {\n",
    "        'mapping':[],\n",
    "        'labels':[],\n",
    "        'mfcc':[]\n",
    "    }\n",
    "    samples_per_segment = SAMPLE_PER_TRACK // n_segments\n",
    "    n_mfcc_vectors_per_segment = (samples_per_segment+hop_len-1)//hop_len\n",
    "    \n",
    "\n",
    "    for i, (dirpath,dirnames,filenames) in enumerate(os.walk(data_path)):\n",
    "        if dirpath is not data_path:\n",
    "            label = dirpath.split(\"/\")[-1]\n",
    "            data[\"mapping\"].append(label)\n",
    "            print(f\"Processing:{label}\")\n",
    "\n",
    "            for f in filenames:\n",
    "                file_path = os.path.join(dirpath,f)\n",
    "                signal, sample_rate = librosa.load(file_path, sr=SAMPLE_RATE)\n",
    "                for d in range(n_segments):\n",
    "                    st = samples_per_segment * d\n",
    "                    en = st + samples_per_segment\n",
    "\n",
    "                    mfcc = librosa.feature.mfcc(signal[st:en],sample_rate,n_mfcc=n_mfcc,n_fft=n_fft,hop_length=hop_len)\n",
    "                    mfcc = mfcc.T\n",
    "\n",
    "                    if len(mfcc) == n_mfcc_vectors_per_segment:\n",
    "                        data['mfcc'].append(mfcc.tolist()) \n",
    "                        data['labels'].append(i-1)\n",
    "    print(data)\n",
    "    with open(json_path,'w') as f:\n",
    "        json.dump(data,f,indent=4)                \n",
    "\n",
    "save_json(DATA_DIR,JSON_PATH,n_segments=10)"
   ]
  },
  {
   "cell_type": "code",
   "execution_count": 4,
   "metadata": {},
   "outputs": [],
   "source": [
    "def load_data(json_path):\n",
    "    with open(json_path,'r') as f:\n",
    "        data = json.load(f,encoding='gb18030')\n",
    "    X, y = np.array(data['mfcc']), np.array(data['labels'])\n",
    "    return X, y"
   ]
  },
  {
   "cell_type": "code",
   "execution_count": 5,
   "metadata": {},
   "outputs": [],
   "source": [
    "X, y = load_data(JSON_PATH) \n",
    "X = X.astype(np.float32)\n"
   ]
  },
  {
   "cell_type": "code",
   "execution_count": 6,
   "metadata": {},
   "outputs": [],
   "source": [
    "X, y = torch.from_numpy(X), torch.from_numpy(y)\n",
    "data_loader = TensorDataset(X,y)"
   ]
  },
  {
   "cell_type": "code",
   "execution_count": 7,
   "metadata": {},
   "outputs": [],
   "source": [
    "def split_train_test(data_loader,ratio=0.7):\n",
    "    cnt = dict()\n",
    "    for X,y in data_loader:\n",
    "        if y.item() in cnt.keys():\n",
    "            cnt[y.item()]+=ratio\n",
    "        else:\n",
    "            cnt[y.item()]=ratio\n",
    "    \n",
    "    train_dataloader = []\n",
    "    test_dataloader = []\n",
    "    index = [i for i in range(len(data_loader))]\n",
    "    random.shuffle(index)\n",
    "    for i in range(len(index)):\n",
    "        X,y = data_loader[index[i]]\n",
    "        cnt[y.item()]-=1\n",
    "        if cnt[y.item()]>=0:\n",
    "            train_dataloader.append((X,y))\n",
    "        else :\n",
    "            test_dataloader.append((X,y))\n",
    "    return train_dataloader, test_dataloader\n",
    "\n",
    "\n"
   ]
  },
  {
   "cell_type": "code",
   "execution_count": 8,
   "metadata": {},
   "outputs": [],
   "source": [
    "train_dataloader, test_dataloader = split_train_test(data_loader,TRAIN_OVDER_ALL)\n",
    "train_dataloader = DataLoader(train_dataloader,batch_size=BATCH_SIZE)\n",
    "test_dataloader = DataLoader(test_dataloader,batch_size=BATCH_SIZE)"
   ]
  },
  {
   "cell_type": "code",
   "execution_count": 9,
   "metadata": {},
   "outputs": [],
   "source": [
    "def train(model, train_dataloader, test_dataloader, optimizer, loss_fn, device,\n",
    "          epochs):\n",
    "    animator = d2l.Animator(xlabel='epoch',\n",
    "                            xlim=[1, epochs],\n",
    "                            ylim=[0, 1],\n",
    "                            legend=['train acc', 'test acc'])\n",
    "    n_batches = len(train_dataloader)\n",
    "    for epoch in range(epochs):\n",
    "        metric = d2l.Accumulator(2)\n",
    "        model.train()\n",
    "        for i, (X, y) in enumerate(train_dataloader):\n",
    "            X, y = X.to(device), y.to(device)\n",
    "            predict = model(X)\n",
    "            optimizer.zero_grad()\n",
    "            loss = loss_fn(predict, y.long()).sum()\n",
    "            loss.backward()\n",
    "            with torch.no_grad():\n",
    "                metric.add(d2l.accuracy(predict, y), X.shape[0])\n",
    "            optimizer.step()\n",
    "            train_acc = metric[0] / metric[1]\n",
    "            if (i + 1) % (n_batches // 5) == 0 or i == n_batches - 1:\n",
    "                animator.add(epoch + (i + 1) / n_batches, (train_acc, None))\n",
    "        test_acc = d2l.evaluate_accuracy_gpu(model, test_dataloader)\n",
    "        animator.add(epoch + 1, (None, test_acc))\n",
    "    print(f'train acc {train_acc:.3f}, '\n",
    "          f'test acc {test_acc:.3f}')\n"
   ]
  },
  {
   "cell_type": "code",
   "execution_count": 10,
   "metadata": {},
   "outputs": [],
   "source": [
    "class RNN(nn.Module):\n",
    "    def __init__(self, num_classes):\n",
    "        super().__init__()\n",
    "        self.gru = nn.GRU(13,65,2,batch_first=True)\n",
    "        self.conv1 = nn.Sequential(\n",
    "            nn.Conv2d(1, 16, kernel_size=3, padding=1),\n",
    "            nn.BatchNorm2d(16),\n",
    "            nn.ReLU(),\n",
    "            nn.Conv2d(16, 64, kernel_size=3, padding=1),\n",
    "            nn.BatchNorm2d(64),\n",
    "            nn.ReLU(),\n",
    "            nn.MaxPool2d(kernel_size=2)\n",
    "        )\n",
    "\n",
    "        self.conv2 = nn.Sequential(\n",
    "            nn.Conv2d(64, 64, kernel_size=3, padding=1),\n",
    "            nn.BatchNorm2d(64),\n",
    "            nn.ReLU(),\n",
    "            nn.Conv2d(64, 64, kernel_size=3, padding=1),\n",
    "            nn.BatchNorm2d(64),\n",
    "            nn.ReLU(),\n",
    "        )\n",
    "        self.conv3 = nn.Sequential(\n",
    "            nn.Conv2d(64, 64, kernel_size=3, padding=1),\n",
    "            nn.BatchNorm2d(64),\n",
    "            nn.ReLU(),\n",
    "            nn.Conv2d(64, 64, kernel_size=3, padding=1),\n",
    "            nn.BatchNorm2d(64),\n",
    "            nn.ReLU(),\n",
    "        )\n",
    "\n",
    "        self.conv4 = nn.Sequential(\n",
    "            nn.Conv2d(64, 128, kernel_size=3, padding=1),\n",
    "            nn.BatchNorm2d(128),\n",
    "            nn.ReLU(),\n",
    "            nn.Conv2d(128, 128, kernel_size=3, padding=1),\n",
    "            nn.BatchNorm2d(128),\n",
    "            nn.ReLU(),\n",
    "        )\n",
    "        self.conv5 = nn.Sequential(\n",
    "            nn.Conv2d(128, 128, kernel_size=3, padding=1),\n",
    "            nn.BatchNorm2d(128),\n",
    "            nn.ReLU(),\n",
    "            nn.Conv2d(128, 128, kernel_size=3, padding=1),\n",
    "            nn.BatchNorm2d(128),\n",
    "            nn.ReLU(),\n",
    "        )\n",
    "\n",
    "        self.pool = nn.MaxPool2d(kernel_size=2)\n",
    "        self.classifier = nn.Sequential(\n",
    "            nn.Flatten(),\n",
    "            nn.Linear(1024, 512),\n",
    "            nn.ReLU(),\n",
    "            nn.Linear(512, 128),\n",
    "            nn.ReLU(),\n",
    "            nn.Linear(128, num_classes)\n",
    "        )\n",
    "\n",
    "    def forward(self, x):\n",
    "        x = self.gru(x)[0] + x.repeat(1,1,5)\n",
    "        x = x.unsqueeze(1)\n",
    "        x = self.conv1(x)\n",
    "        x = self.conv2(x) + x\n",
    "        x = self.pool(x)\n",
    "        x = self.conv3(x) + x\n",
    "        x = self.pool(x)\n",
    "        x = self.conv4(x) + x.repeat(1,2,1,1)\n",
    "        x = self.pool(x)\n",
    "        x = self.conv5(x) + x\n",
    "        x = self.pool(x)\n",
    "        x = self.classifier(x)\n",
    "        return x"
   ]
  },
  {
   "cell_type": "code",
   "execution_count": 11,
   "metadata": {},
   "outputs": [],
   "source": [
    "model = RNN(10).to(device) \n",
    "optimizer = torch.optim.AdamW(model.parameters(), lr=3e-4,weight_decay=1e-3)\n",
    "loss_fn = nn.CrossEntropyLoss()"
   ]
  },
  {
   "cell_type": "code",
   "execution_count": 12,
   "metadata": {},
   "outputs": [
    {
     "name": "stdout",
     "output_type": "stream",
     "text": [
      "train acc 1.000, test acc 0.913\n"
     ]
    },
    {
     "data": {
      "image/svg+xml": "<?xml version=\"1.0\" encoding=\"utf-8\" standalone=\"no\"?>\n<!DOCTYPE svg PUBLIC \"-//W3C//DTD SVG 1.1//EN\"\n  \"http://www.w3.org/Graphics/SVG/1.1/DTD/svg11.dtd\">\n<svg xmlns:xlink=\"http://www.w3.org/1999/xlink\" width=\"242.146875pt\" height=\"184.455469pt\" viewBox=\"0 0 242.146875 184.455469\" xmlns=\"http://www.w3.org/2000/svg\" version=\"1.1\">\n <metadata>\n  <rdf:RDF xmlns:dc=\"http://purl.org/dc/elements/1.1/\" xmlns:cc=\"http://creativecommons.org/ns#\" xmlns:rdf=\"http://www.w3.org/1999/02/22-rdf-syntax-ns#\">\n   <cc:Work>\n    <dc:type rdf:resource=\"http://purl.org/dc/dcmitype/StillImage\"/>\n    <dc:date>2022-04-04T17:11:46.244944</dc:date>\n    <dc:format>image/svg+xml</dc:format>\n    <dc:creator>\n     <cc:Agent>\n      <dc:title>Matplotlib v3.5.1, https://matplotlib.org/</dc:title>\n     </cc:Agent>\n    </dc:creator>\n   </cc:Work>\n  </rdf:RDF>\n </metadata>\n <defs>\n  <style type=\"text/css\">*{stroke-linejoin: round; stroke-linecap: butt}</style>\n </defs>\n <g id=\"figure_1\">\n  <g id=\"patch_1\">\n   <path d=\"M 0 184.455469 \nL 242.146875 184.455469 \nL 242.146875 -0 \nL 0 -0 \nL 0 184.455469 \nz\n\" style=\"fill: none\"/>\n  </g>\n  <g id=\"axes_1\">\n   <g id=\"patch_2\">\n    <path d=\"M 30.103125 146.899219 \nL 225.403125 146.899219 \nL 225.403125 10.999219 \nL 30.103125 10.999219 \nz\n\" style=\"fill: #ffffff\"/>\n   </g>\n   <g id=\"matplotlib.axis_1\">\n    <g id=\"xtick_1\">\n     <g id=\"line2d_1\">\n      <path d=\"M 67.584943 146.899219 \nL 67.584943 10.999219 \n\" clip-path=\"url(#p7b7dd4c248)\" style=\"fill: none; stroke: #b0b0b0; stroke-width: 0.8; stroke-linecap: square\"/>\n     </g>\n     <g id=\"line2d_2\">\n      <defs>\n       <path id=\"me96e5d3e6f\" d=\"M 0 0 \nL 0 3.5 \n\" style=\"stroke: #000000; stroke-width: 0.8\"/>\n      </defs>\n      <g>\n       <use xlink:href=\"#me96e5d3e6f\" x=\"67.584943\" y=\"146.899219\" style=\"stroke: #000000; stroke-width: 0.8\"/>\n      </g>\n     </g>\n     <g id=\"text_1\">\n      <!-- 20 -->\n      <g transform=\"translate(61.222443 161.497656)scale(0.1 -0.1)\">\n       <defs>\n        <path id=\"DejaVuSans-32\" d=\"M 1228 531 \nL 3431 531 \nL 3431 0 \nL 469 0 \nL 469 531 \nQ 828 903 1448 1529 \nQ 2069 2156 2228 2338 \nQ 2531 2678 2651 2914 \nQ 2772 3150 2772 3378 \nQ 2772 3750 2511 3984 \nQ 2250 4219 1831 4219 \nQ 1534 4219 1204 4116 \nQ 875 4013 500 3803 \nL 500 4441 \nQ 881 4594 1212 4672 \nQ 1544 4750 1819 4750 \nQ 2544 4750 2975 4387 \nQ 3406 4025 3406 3419 \nQ 3406 3131 3298 2873 \nQ 3191 2616 2906 2266 \nQ 2828 2175 2409 1742 \nQ 1991 1309 1228 531 \nz\n\" transform=\"scale(0.015625)\"/>\n        <path id=\"DejaVuSans-30\" d=\"M 2034 4250 \nQ 1547 4250 1301 3770 \nQ 1056 3291 1056 2328 \nQ 1056 1369 1301 889 \nQ 1547 409 2034 409 \nQ 2525 409 2770 889 \nQ 3016 1369 3016 2328 \nQ 3016 3291 2770 3770 \nQ 2525 4250 2034 4250 \nz\nM 2034 4750 \nQ 2819 4750 3233 4129 \nQ 3647 3509 3647 2328 \nQ 3647 1150 3233 529 \nQ 2819 -91 2034 -91 \nQ 1250 -91 836 529 \nQ 422 1150 422 2328 \nQ 422 3509 836 4129 \nQ 1250 4750 2034 4750 \nz\n\" transform=\"scale(0.015625)\"/>\n       </defs>\n       <use xlink:href=\"#DejaVuSans-32\"/>\n       <use xlink:href=\"#DejaVuSans-30\" x=\"63.623047\"/>\n      </g>\n     </g>\n    </g>\n    <g id=\"xtick_2\">\n     <g id=\"line2d_3\">\n      <path d=\"M 107.039489 146.899219 \nL 107.039489 10.999219 \n\" clip-path=\"url(#p7b7dd4c248)\" style=\"fill: none; stroke: #b0b0b0; stroke-width: 0.8; stroke-linecap: square\"/>\n     </g>\n     <g id=\"line2d_4\">\n      <g>\n       <use xlink:href=\"#me96e5d3e6f\" x=\"107.039489\" y=\"146.899219\" style=\"stroke: #000000; stroke-width: 0.8\"/>\n      </g>\n     </g>\n     <g id=\"text_2\">\n      <!-- 40 -->\n      <g transform=\"translate(100.676989 161.497656)scale(0.1 -0.1)\">\n       <defs>\n        <path id=\"DejaVuSans-34\" d=\"M 2419 4116 \nL 825 1625 \nL 2419 1625 \nL 2419 4116 \nz\nM 2253 4666 \nL 3047 4666 \nL 3047 1625 \nL 3713 1625 \nL 3713 1100 \nL 3047 1100 \nL 3047 0 \nL 2419 0 \nL 2419 1100 \nL 313 1100 \nL 313 1709 \nL 2253 4666 \nz\n\" transform=\"scale(0.015625)\"/>\n       </defs>\n       <use xlink:href=\"#DejaVuSans-34\"/>\n       <use xlink:href=\"#DejaVuSans-30\" x=\"63.623047\"/>\n      </g>\n     </g>\n    </g>\n    <g id=\"xtick_3\">\n     <g id=\"line2d_5\">\n      <path d=\"M 146.494034 146.899219 \nL 146.494034 10.999219 \n\" clip-path=\"url(#p7b7dd4c248)\" style=\"fill: none; stroke: #b0b0b0; stroke-width: 0.8; stroke-linecap: square\"/>\n     </g>\n     <g id=\"line2d_6\">\n      <g>\n       <use xlink:href=\"#me96e5d3e6f\" x=\"146.494034\" y=\"146.899219\" style=\"stroke: #000000; stroke-width: 0.8\"/>\n      </g>\n     </g>\n     <g id=\"text_3\">\n      <!-- 60 -->\n      <g transform=\"translate(140.131534 161.497656)scale(0.1 -0.1)\">\n       <defs>\n        <path id=\"DejaVuSans-36\" d=\"M 2113 2584 \nQ 1688 2584 1439 2293 \nQ 1191 2003 1191 1497 \nQ 1191 994 1439 701 \nQ 1688 409 2113 409 \nQ 2538 409 2786 701 \nQ 3034 994 3034 1497 \nQ 3034 2003 2786 2293 \nQ 2538 2584 2113 2584 \nz\nM 3366 4563 \nL 3366 3988 \nQ 3128 4100 2886 4159 \nQ 2644 4219 2406 4219 \nQ 1781 4219 1451 3797 \nQ 1122 3375 1075 2522 \nQ 1259 2794 1537 2939 \nQ 1816 3084 2150 3084 \nQ 2853 3084 3261 2657 \nQ 3669 2231 3669 1497 \nQ 3669 778 3244 343 \nQ 2819 -91 2113 -91 \nQ 1303 -91 875 529 \nQ 447 1150 447 2328 \nQ 447 3434 972 4092 \nQ 1497 4750 2381 4750 \nQ 2619 4750 2861 4703 \nQ 3103 4656 3366 4563 \nz\n\" transform=\"scale(0.015625)\"/>\n       </defs>\n       <use xlink:href=\"#DejaVuSans-36\"/>\n       <use xlink:href=\"#DejaVuSans-30\" x=\"63.623047\"/>\n      </g>\n     </g>\n    </g>\n    <g id=\"xtick_4\">\n     <g id=\"line2d_7\">\n      <path d=\"M 185.94858 146.899219 \nL 185.94858 10.999219 \n\" clip-path=\"url(#p7b7dd4c248)\" style=\"fill: none; stroke: #b0b0b0; stroke-width: 0.8; stroke-linecap: square\"/>\n     </g>\n     <g id=\"line2d_8\">\n      <g>\n       <use xlink:href=\"#me96e5d3e6f\" x=\"185.94858\" y=\"146.899219\" style=\"stroke: #000000; stroke-width: 0.8\"/>\n      </g>\n     </g>\n     <g id=\"text_4\">\n      <!-- 80 -->\n      <g transform=\"translate(179.58608 161.497656)scale(0.1 -0.1)\">\n       <defs>\n        <path id=\"DejaVuSans-38\" d=\"M 2034 2216 \nQ 1584 2216 1326 1975 \nQ 1069 1734 1069 1313 \nQ 1069 891 1326 650 \nQ 1584 409 2034 409 \nQ 2484 409 2743 651 \nQ 3003 894 3003 1313 \nQ 3003 1734 2745 1975 \nQ 2488 2216 2034 2216 \nz\nM 1403 2484 \nQ 997 2584 770 2862 \nQ 544 3141 544 3541 \nQ 544 4100 942 4425 \nQ 1341 4750 2034 4750 \nQ 2731 4750 3128 4425 \nQ 3525 4100 3525 3541 \nQ 3525 3141 3298 2862 \nQ 3072 2584 2669 2484 \nQ 3125 2378 3379 2068 \nQ 3634 1759 3634 1313 \nQ 3634 634 3220 271 \nQ 2806 -91 2034 -91 \nQ 1263 -91 848 271 \nQ 434 634 434 1313 \nQ 434 1759 690 2068 \nQ 947 2378 1403 2484 \nz\nM 1172 3481 \nQ 1172 3119 1398 2916 \nQ 1625 2713 2034 2713 \nQ 2441 2713 2670 2916 \nQ 2900 3119 2900 3481 \nQ 2900 3844 2670 4047 \nQ 2441 4250 2034 4250 \nQ 1625 4250 1398 4047 \nQ 1172 3844 1172 3481 \nz\n\" transform=\"scale(0.015625)\"/>\n       </defs>\n       <use xlink:href=\"#DejaVuSans-38\"/>\n       <use xlink:href=\"#DejaVuSans-30\" x=\"63.623047\"/>\n      </g>\n     </g>\n    </g>\n    <g id=\"xtick_5\">\n     <g id=\"line2d_9\">\n      <path d=\"M 225.403125 146.899219 \nL 225.403125 10.999219 \n\" clip-path=\"url(#p7b7dd4c248)\" style=\"fill: none; stroke: #b0b0b0; stroke-width: 0.8; stroke-linecap: square\"/>\n     </g>\n     <g id=\"line2d_10\">\n      <g>\n       <use xlink:href=\"#me96e5d3e6f\" x=\"225.403125\" y=\"146.899219\" style=\"stroke: #000000; stroke-width: 0.8\"/>\n      </g>\n     </g>\n     <g id=\"text_5\">\n      <!-- 100 -->\n      <g transform=\"translate(215.859375 161.497656)scale(0.1 -0.1)\">\n       <defs>\n        <path id=\"DejaVuSans-31\" d=\"M 794 531 \nL 1825 531 \nL 1825 4091 \nL 703 3866 \nL 703 4441 \nL 1819 4666 \nL 2450 4666 \nL 2450 531 \nL 3481 531 \nL 3481 0 \nL 794 0 \nL 794 531 \nz\n\" transform=\"scale(0.015625)\"/>\n       </defs>\n       <use xlink:href=\"#DejaVuSans-31\"/>\n       <use xlink:href=\"#DejaVuSans-30\" x=\"63.623047\"/>\n       <use xlink:href=\"#DejaVuSans-30\" x=\"127.246094\"/>\n      </g>\n     </g>\n    </g>\n    <g id=\"text_6\">\n     <!-- epoch -->\n     <g transform=\"translate(112.525 175.175781)scale(0.1 -0.1)\">\n      <defs>\n       <path id=\"DejaVuSans-65\" d=\"M 3597 1894 \nL 3597 1613 \nL 953 1613 \nQ 991 1019 1311 708 \nQ 1631 397 2203 397 \nQ 2534 397 2845 478 \nQ 3156 559 3463 722 \nL 3463 178 \nQ 3153 47 2828 -22 \nQ 2503 -91 2169 -91 \nQ 1331 -91 842 396 \nQ 353 884 353 1716 \nQ 353 2575 817 3079 \nQ 1281 3584 2069 3584 \nQ 2775 3584 3186 3129 \nQ 3597 2675 3597 1894 \nz\nM 3022 2063 \nQ 3016 2534 2758 2815 \nQ 2500 3097 2075 3097 \nQ 1594 3097 1305 2825 \nQ 1016 2553 972 2059 \nL 3022 2063 \nz\n\" transform=\"scale(0.015625)\"/>\n       <path id=\"DejaVuSans-70\" d=\"M 1159 525 \nL 1159 -1331 \nL 581 -1331 \nL 581 3500 \nL 1159 3500 \nL 1159 2969 \nQ 1341 3281 1617 3432 \nQ 1894 3584 2278 3584 \nQ 2916 3584 3314 3078 \nQ 3713 2572 3713 1747 \nQ 3713 922 3314 415 \nQ 2916 -91 2278 -91 \nQ 1894 -91 1617 61 \nQ 1341 213 1159 525 \nz\nM 3116 1747 \nQ 3116 2381 2855 2742 \nQ 2594 3103 2138 3103 \nQ 1681 3103 1420 2742 \nQ 1159 2381 1159 1747 \nQ 1159 1113 1420 752 \nQ 1681 391 2138 391 \nQ 2594 391 2855 752 \nQ 3116 1113 3116 1747 \nz\n\" transform=\"scale(0.015625)\"/>\n       <path id=\"DejaVuSans-6f\" d=\"M 1959 3097 \nQ 1497 3097 1228 2736 \nQ 959 2375 959 1747 \nQ 959 1119 1226 758 \nQ 1494 397 1959 397 \nQ 2419 397 2687 759 \nQ 2956 1122 2956 1747 \nQ 2956 2369 2687 2733 \nQ 2419 3097 1959 3097 \nz\nM 1959 3584 \nQ 2709 3584 3137 3096 \nQ 3566 2609 3566 1747 \nQ 3566 888 3137 398 \nQ 2709 -91 1959 -91 \nQ 1206 -91 779 398 \nQ 353 888 353 1747 \nQ 353 2609 779 3096 \nQ 1206 3584 1959 3584 \nz\n\" transform=\"scale(0.015625)\"/>\n       <path id=\"DejaVuSans-63\" d=\"M 3122 3366 \nL 3122 2828 \nQ 2878 2963 2633 3030 \nQ 2388 3097 2138 3097 \nQ 1578 3097 1268 2742 \nQ 959 2388 959 1747 \nQ 959 1106 1268 751 \nQ 1578 397 2138 397 \nQ 2388 397 2633 464 \nQ 2878 531 3122 666 \nL 3122 134 \nQ 2881 22 2623 -34 \nQ 2366 -91 2075 -91 \nQ 1284 -91 818 406 \nQ 353 903 353 1747 \nQ 353 2603 823 3093 \nQ 1294 3584 2113 3584 \nQ 2378 3584 2631 3529 \nQ 2884 3475 3122 3366 \nz\n\" transform=\"scale(0.015625)\"/>\n       <path id=\"DejaVuSans-68\" d=\"M 3513 2113 \nL 3513 0 \nL 2938 0 \nL 2938 2094 \nQ 2938 2591 2744 2837 \nQ 2550 3084 2163 3084 \nQ 1697 3084 1428 2787 \nQ 1159 2491 1159 1978 \nL 1159 0 \nL 581 0 \nL 581 4863 \nL 1159 4863 \nL 1159 2956 \nQ 1366 3272 1645 3428 \nQ 1925 3584 2291 3584 \nQ 2894 3584 3203 3211 \nQ 3513 2838 3513 2113 \nz\n\" transform=\"scale(0.015625)\"/>\n      </defs>\n      <use xlink:href=\"#DejaVuSans-65\"/>\n      <use xlink:href=\"#DejaVuSans-70\" x=\"61.523438\"/>\n      <use xlink:href=\"#DejaVuSans-6f\" x=\"125\"/>\n      <use xlink:href=\"#DejaVuSans-63\" x=\"186.181641\"/>\n      <use xlink:href=\"#DejaVuSans-68\" x=\"241.162109\"/>\n     </g>\n    </g>\n   </g>\n   <g id=\"matplotlib.axis_2\">\n    <g id=\"ytick_1\">\n     <g id=\"line2d_11\">\n      <path d=\"M 30.103125 146.899219 \nL 225.403125 146.899219 \n\" clip-path=\"url(#p7b7dd4c248)\" style=\"fill: none; stroke: #b0b0b0; stroke-width: 0.8; stroke-linecap: square\"/>\n     </g>\n     <g id=\"line2d_12\">\n      <defs>\n       <path id=\"m61705e13e6\" d=\"M 0 0 \nL -3.5 0 \n\" style=\"stroke: #000000; stroke-width: 0.8\"/>\n      </defs>\n      <g>\n       <use xlink:href=\"#m61705e13e6\" x=\"30.103125\" y=\"146.899219\" style=\"stroke: #000000; stroke-width: 0.8\"/>\n      </g>\n     </g>\n     <g id=\"text_7\">\n      <!-- 0.0 -->\n      <g transform=\"translate(7.2 150.698437)scale(0.1 -0.1)\">\n       <defs>\n        <path id=\"DejaVuSans-2e\" d=\"M 684 794 \nL 1344 794 \nL 1344 0 \nL 684 0 \nL 684 794 \nz\n\" transform=\"scale(0.015625)\"/>\n       </defs>\n       <use xlink:href=\"#DejaVuSans-30\"/>\n       <use xlink:href=\"#DejaVuSans-2e\" x=\"63.623047\"/>\n       <use xlink:href=\"#DejaVuSans-30\" x=\"95.410156\"/>\n      </g>\n     </g>\n    </g>\n    <g id=\"ytick_2\">\n     <g id=\"line2d_13\">\n      <path d=\"M 30.103125 119.719219 \nL 225.403125 119.719219 \n\" clip-path=\"url(#p7b7dd4c248)\" style=\"fill: none; stroke: #b0b0b0; stroke-width: 0.8; stroke-linecap: square\"/>\n     </g>\n     <g id=\"line2d_14\">\n      <g>\n       <use xlink:href=\"#m61705e13e6\" x=\"30.103125\" y=\"119.719219\" style=\"stroke: #000000; stroke-width: 0.8\"/>\n      </g>\n     </g>\n     <g id=\"text_8\">\n      <!-- 0.2 -->\n      <g transform=\"translate(7.2 123.518437)scale(0.1 -0.1)\">\n       <use xlink:href=\"#DejaVuSans-30\"/>\n       <use xlink:href=\"#DejaVuSans-2e\" x=\"63.623047\"/>\n       <use xlink:href=\"#DejaVuSans-32\" x=\"95.410156\"/>\n      </g>\n     </g>\n    </g>\n    <g id=\"ytick_3\">\n     <g id=\"line2d_15\">\n      <path d=\"M 30.103125 92.539219 \nL 225.403125 92.539219 \n\" clip-path=\"url(#p7b7dd4c248)\" style=\"fill: none; stroke: #b0b0b0; stroke-width: 0.8; stroke-linecap: square\"/>\n     </g>\n     <g id=\"line2d_16\">\n      <g>\n       <use xlink:href=\"#m61705e13e6\" x=\"30.103125\" y=\"92.539219\" style=\"stroke: #000000; stroke-width: 0.8\"/>\n      </g>\n     </g>\n     <g id=\"text_9\">\n      <!-- 0.4 -->\n      <g transform=\"translate(7.2 96.338437)scale(0.1 -0.1)\">\n       <use xlink:href=\"#DejaVuSans-30\"/>\n       <use xlink:href=\"#DejaVuSans-2e\" x=\"63.623047\"/>\n       <use xlink:href=\"#DejaVuSans-34\" x=\"95.410156\"/>\n      </g>\n     </g>\n    </g>\n    <g id=\"ytick_4\">\n     <g id=\"line2d_17\">\n      <path d=\"M 30.103125 65.359219 \nL 225.403125 65.359219 \n\" clip-path=\"url(#p7b7dd4c248)\" style=\"fill: none; stroke: #b0b0b0; stroke-width: 0.8; stroke-linecap: square\"/>\n     </g>\n     <g id=\"line2d_18\">\n      <g>\n       <use xlink:href=\"#m61705e13e6\" x=\"30.103125\" y=\"65.359219\" style=\"stroke: #000000; stroke-width: 0.8\"/>\n      </g>\n     </g>\n     <g id=\"text_10\">\n      <!-- 0.6 -->\n      <g transform=\"translate(7.2 69.158437)scale(0.1 -0.1)\">\n       <use xlink:href=\"#DejaVuSans-30\"/>\n       <use xlink:href=\"#DejaVuSans-2e\" x=\"63.623047\"/>\n       <use xlink:href=\"#DejaVuSans-36\" x=\"95.410156\"/>\n      </g>\n     </g>\n    </g>\n    <g id=\"ytick_5\">\n     <g id=\"line2d_19\">\n      <path d=\"M 30.103125 38.179219 \nL 225.403125 38.179219 \n\" clip-path=\"url(#p7b7dd4c248)\" style=\"fill: none; stroke: #b0b0b0; stroke-width: 0.8; stroke-linecap: square\"/>\n     </g>\n     <g id=\"line2d_20\">\n      <g>\n       <use xlink:href=\"#m61705e13e6\" x=\"30.103125\" y=\"38.179219\" style=\"stroke: #000000; stroke-width: 0.8\"/>\n      </g>\n     </g>\n     <g id=\"text_11\">\n      <!-- 0.8 -->\n      <g transform=\"translate(7.2 41.978437)scale(0.1 -0.1)\">\n       <use xlink:href=\"#DejaVuSans-30\"/>\n       <use xlink:href=\"#DejaVuSans-2e\" x=\"63.623047\"/>\n       <use xlink:href=\"#DejaVuSans-38\" x=\"95.410156\"/>\n      </g>\n     </g>\n    </g>\n    <g id=\"ytick_6\">\n     <g id=\"line2d_21\">\n      <path d=\"M 30.103125 10.999219 \nL 225.403125 10.999219 \n\" clip-path=\"url(#p7b7dd4c248)\" style=\"fill: none; stroke: #b0b0b0; stroke-width: 0.8; stroke-linecap: square\"/>\n     </g>\n     <g id=\"line2d_22\">\n      <g>\n       <use xlink:href=\"#m61705e13e6\" x=\"30.103125\" y=\"10.999219\" style=\"stroke: #000000; stroke-width: 0.8\"/>\n      </g>\n     </g>\n     <g id=\"text_12\">\n      <!-- 1.0 -->\n      <g transform=\"translate(7.2 14.798437)scale(0.1 -0.1)\">\n       <use xlink:href=\"#DejaVuSans-31\"/>\n       <use xlink:href=\"#DejaVuSans-2e\" x=\"63.623047\"/>\n       <use xlink:href=\"#DejaVuSans-30\" x=\"95.410156\"/>\n      </g>\n     </g>\n    </g>\n   </g>\n   <g id=\"line2d_23\">\n    <path d=\"M 28.517737 113.516806 \nL 29.292415 98.537518 \nL 30.067093 90.267634 \nL 30.103125 90.293644 \nL 30.490464 74.307286 \nL 31.265142 67.854669 \nL 32.039821 65.003666 \nL 32.075852 65.157195 \nL 32.463191 58.603725 \nL 32.850531 57.171639 \nL 33.23787 54.982358 \nL 33.625209 54.184012 \nL 34.012548 53.053158 \nL 34.04858 53.171732 \nL 35.210597 46.75198 \nL 35.597936 46.282849 \nL 35.985275 45.290265 \nL 36.021307 45.382152 \nL 37.183324 40.43105 \nL 37.958003 39.324887 \nL 37.994034 39.399133 \nL 38.381373 35.591588 \nL 39.156052 33.517533 \nL 39.543391 32.949637 \nL 39.966761 32.852778 \nL 40.354101 31.542242 \nL 40.74144 29.813863 \nL 41.128779 28.743914 \nL 41.516118 28.431159 \nL 41.903457 28.816341 \nL 41.939489 29.025977 \nL 42.326828 29.468187 \nL 42.714167 27.344749 \nL 43.101506 25.84682 \nL 43.488845 26.159575 \nL 43.912216 26.792058 \nL 44.299555 28.579306 \nL 44.686894 26.505251 \nL 45.074233 25.056704 \nL 45.461572 24.406504 \nL 46.272282 25.912664 \nL 46.659621 23.048492 \nL 47.046961 22.324219 \nL 47.85767 23.237212 \nL 48.24501 25.813899 \nL 48.632349 22.900345 \nL 49.019688 21.863318 \nL 49.407027 22.233685 \nL 49.830398 22.36307 \nL 50.217737 20.875672 \nL 50.605076 20.678143 \nL 50.992415 19.262518 \nL 51.379754 19.418895 \nL 51.803125 20.070874 \nL 52.190464 22.554669 \nL 52.577803 21.122584 \nL 52.965142 20.151399 \nL 53.352482 19.665807 \nL 53.739821 19.868274 \nL 53.775852 20.090299 \nL 54.163191 20.974437 \nL 54.550531 19.147293 \nL 55.325209 17.34484 \nL 55.74858 17.390171 \nL 56.135919 17.221384 \nL 56.523258 17.56706 \nL 56.910597 16.628797 \nL 57.297936 16.431268 \nL 57.721307 16.535454 \nL 58.108646 20.480614 \nL 58.495985 18.307794 \nL 58.883324 17.056777 \nL 59.270663 16.381886 \nL 59.658003 15.976951 \nL 59.694034 16.030394 \nL 60.081373 18.20903 \nL 60.468712 18.357177 \nL 60.856052 16.958012 \nL 61.243391 16.060901 \nL 61.63073 15.641152 \nL 61.666761 15.680737 \nL 62.054101 16.628797 \nL 62.44144 16.431268 \nL 62.828779 15.509466 \nL 63.216118 15.073256 \nL 63.639489 15.214527 \nL 64.026828 16.332504 \nL 64.414167 16.184357 \nL 65.188845 15.542387 \nL 65.612216 15.603035 \nL 65.999555 16.233739 \nL 66.774233 15.542387 \nL 67.161572 15.369549 \nL 67.584943 15.350505 \nL 67.972282 14.752271 \nL 68.359621 14.702889 \nL 68.746961 14.455977 \nL 69.94501 14.060919 \nL 71.107027 13.369568 \nL 71.530398 13.56337 \nL 71.917737 15.246094 \nL 72.305076 15.789299 \nL 72.692415 14.620585 \nL 73.503125 14.670617 \nL 73.890464 14.159684 \nL 74.277803 14.455977 \nL 74.665142 14.258448 \nL 75.052482 13.814008 \nL 75.475852 13.971303 \nL 75.863191 13.468332 \nL 76.250531 14.357213 \nL 76.63787 13.896312 \nL 77.025209 13.690552 \nL 77.44858 13.699347 \nL 77.835919 13.962155 \nL 78.223258 13.41895 \nL 78.610597 13.567097 \nL 78.997936 14.159684 \nL 79.421307 14.184982 \nL 79.808646 14.455977 \nL 80.195985 14.554742 \nL 80.970663 14.184375 \nL 81.781373 13.86339 \nL 83.366761 13.291414 \nL 83.754101 13.962155 \nL 84.14144 14.159684 \nL 84.916118 13.86339 \nL 85.339489 13.893601 \nL 85.726828 15.048565 \nL 86.888845 13.591788 \nL 87.312216 13.738198 \nL 87.699555 12.283158 \nL 88.474233 12.184393 \nL 89.284943 11.815085 \nL 89.672282 11.789335 \nL 90.059621 12.579451 \nL 90.8343 13.221421 \nL 91.25767 13.407967 \nL 91.64501 12.875745 \nL 92.807027 12.381922 \nL 93.230398 12.417272 \nL 93.617737 13.567097 \nL 94.392415 12.678216 \nL 95.203125 13.09716 \nL 95.590464 12.480687 \nL 96.365142 12.184393 \nL 97.175852 12.689227 \nL 97.563191 13.764626 \nL 97.950531 14.50536 \nL 98.33787 14.060919 \nL 98.725209 14.110302 \nL 99.14858 13.932452 \nL 99.535919 12.184393 \nL 99.923258 12.381922 \nL 100.310597 12.184393 \nL 101.121307 12.922332 \nL 101.508646 13.567097 \nL 101.895985 12.875745 \nL 102.283324 12.612373 \nL 103.094034 12.514399 \nL 103.481373 11.493041 \nL 105.066761 12.417272 \nL 105.454101 15.937445 \nL 105.84144 14.406595 \nL 106.228779 13.63294 \nL 106.616118 13.41895 \nL 107.039489 13.077735 \nL 107.426828 13.270803 \nL 107.814167 12.77698 \nL 108.201506 13.336646 \nL 108.588845 13.320185 \nL 109.012216 13.213713 \nL 109.399555 13.86339 \nL 109.786894 12.974509 \nL 110.174233 12.744059 \nL 110.984943 13.485668 \nL 111.372282 13.369568 \nL 111.759621 12.925127 \nL 112.5343 12.55476 \nL 112.95767 12.708653 \nL 113.34501 12.381922 \nL 113.732349 12.727598 \nL 114.930398 12.5921 \nL 115.317737 12.77698 \nL 116.092415 12.052707 \nL 116.479754 12.33254 \nL 116.903125 12.436697 \nL 117.290464 13.567097 \nL 117.677803 13.468332 \nL 118.065142 13.139117 \nL 118.452482 13.147347 \nL 119.650531 12.431305 \nL 120.03787 12.54653 \nL 120.84858 12.417272 \nL 121.235919 11.789335 \nL 122.010597 12.349001 \nL 122.397936 12.653525 \nL 122.821307 12.669802 \nL 123.208646 12.381922 \nL 123.595985 12.431305 \nL 123.983324 12.842823 \nL 124.370663 12.678216 \nL 124.794034 12.786354 \nL 125.181373 15.739916 \nL 125.568712 15.344858 \nL 125.956052 14.29137 \nL 126.343391 13.64117 \nL 126.766761 13.174862 \nL 127.154101 12.974509 \nL 127.54144 12.381922 \nL 128.316118 12.826363 \nL 128.739489 12.766929 \nL 129.126828 12.085629 \nL 129.514167 11.8881 \nL 129.901506 11.953943 \nL 130.288845 11.8881 \nL 130.712216 11.989913 \nL 131.099555 13.073274 \nL 131.486894 12.579451 \nL 132.684943 12.378421 \nL 133.072282 12.77698 \nL 133.846961 12.349001 \nL 134.2343 12.431305 \nL 134.65767 12.30072 \nL 135.04501 11.789335 \nL 135.432349 11.739953 \nL 135.819688 11.558884 \nL 136.630398 11.426577 \nL 137.017737 11.295512 \nL 138.603125 11.562555 \nL 139.377803 12.628834 \nL 139.765142 12.908666 \nL 140.152482 12.925127 \nL 140.575852 12.84463 \nL 140.963191 13.270803 \nL 141.350531 13.270803 \nL 141.73787 12.875745 \nL 142.54858 12.572675 \nL 142.935919 13.567097 \nL 143.323258 12.974509 \nL 143.710597 12.612373 \nL 144.521307 12.203593 \nL 145.295985 12.678216 \nL 145.683324 12.579451 \nL 146.458003 12.816486 \nL 146.494034 12.883481 \nL 146.881373 12.184393 \nL 149.24144 12.184393 \nL 149.628779 11.921021 \nL 150.439489 11.873361 \nL 150.826828 12.77698 \nL 151.214167 12.826363 \nL 151.601506 13.336646 \nL 152.412216 12.650377 \nL 152.799555 11.8881 \nL 153.961572 11.789335 \nL 154.384943 11.679107 \nL 154.772282 11.097983 \nL 155.546961 11.163826 \nL 156.35767 11.212898 \nL 156.74501 13.073274 \nL 157.132349 13.320185 \nL 157.519688 13.073274 \nL 157.907027 12.999201 \nL 158.330398 13.116586 \nL 158.717737 14.159684 \nL 159.105076 13.320185 \nL 161.465142 11.69057 \nL 162.275852 11.698533 \nL 162.663191 11.69057 \nL 163.050531 11.986864 \nL 163.43787 11.822257 \nL 163.825209 12.060937 \nL 164.24858 12.04819 \nL 164.635919 12.77698 \nL 165.023258 12.184393 \nL 165.410597 12.085629 \nL 166.221307 12.417272 \nL 166.608646 13.172039 \nL 166.995985 12.530069 \nL 167.770663 11.8881 \nL 169.743391 11.270821 \nL 170.166761 11.232323 \nL 171.328779 12.54653 \nL 172.139489 12.883481 \nL 172.526828 12.974509 \nL 172.914167 12.579451 \nL 173.688845 12.283158 \nL 174.112216 12.242443 \nL 174.499555 12.085629 \nL 175.661572 12.159702 \nL 176.084943 12.30072 \nL 176.472282 12.283158 \nL 176.859621 11.838717 \nL 178.05767 11.659682 \nL 178.44501 11.295512 \nL 178.832349 11.147366 \nL 182.390464 11.097983 \nL 195.388845 11.147366 \nL 195.812216 11.54313 \nL 196.199555 19.690498 \nL 196.586894 18.850999 \nL 197.361572 16.431268 \nL 197.784943 15.603035 \nL 198.172282 12.085629 \nL 198.559621 11.739953 \nL 198.946961 11.624727 \nL 199.75767 11.717958 \nL 200.532349 12.530069 \nL 201.307027 12.55476 \nL 201.730398 12.358996 \nL 202.117737 11.8881 \nL 203.279754 12.135011 \nL 203.703125 12.164742 \nL 204.090464 12.77698 \nL 204.477803 12.875745 \nL 204.865142 12.612373 \nL 205.675852 12.397847 \nL 206.450531 11.8881 \nL 206.83787 11.756414 \nL 207.64858 11.679107 \nL 208.035919 11.196748 \nL 209.197936 12.357231 \nL 209.621307 12.397847 \nL 210.395985 11.789335 \nL 210.783324 11.822257 \nL 211.170663 12.159702 \nL 211.594034 12.164742 \nL 211.981373 11.295512 \nL 212.368712 11.443659 \nL 213.143391 11.418968 \nL 213.566761 11.32945 \nL 213.954101 11.097983 \nL 214.728779 11.097983 \nL 216.314167 11.048601 \nL 216.701506 11.163826 \nL 221.45767 11.057495 \nL 222.619688 11.097983 \nL 224.979754 11.048601 \nL 225.403125 11.03807 \nL 225.403125 11.03807 \n\" clip-path=\"url(#p7b7dd4c248)\" style=\"fill: none; stroke: #1f77b4; stroke-width: 1.5; stroke-linecap: square\"/>\n   </g>\n   <g id=\"line2d_24\">\n    <path d=\"M 30.103125 104.770219 \nL 32.075852 82.527919 \nL 34.04858 64.996819 \nL 36.021307 62.007019 \nL 37.994034 66.990019 \nL 39.966761 66.129319 \nL 41.939489 68.530219 \nL 43.912216 55.619719 \nL 45.884943 51.497419 \nL 47.85767 60.013819 \nL 49.830398 46.333219 \nL 51.803125 58.700119 \nL 53.775852 50.274319 \nL 55.74858 52.448719 \nL 57.721307 54.034219 \nL 59.694034 35.778319 \nL 61.666761 32.833819 \nL 63.639489 37.046719 \nL 65.612216 41.169019 \nL 67.584943 32.199619 \nL 69.55767 34.419319 \nL 71.530398 31.610719 \nL 73.503125 30.297019 \nL 75.475852 37.454419 \nL 77.44858 33.377419 \nL 79.421307 37.092019 \nL 81.394034 27.624319 \nL 83.366761 29.481619 \nL 85.339489 29.436319 \nL 87.312216 30.070519 \nL 89.284943 27.850819 \nL 91.25767 31.791919 \nL 93.230398 28.620919 \nL 95.203125 29.345719 \nL 97.175852 33.015019 \nL 99.14858 27.443119 \nL 101.121307 35.053519 \nL 103.094034 27.307219 \nL 105.066761 35.823619 \nL 107.039489 31.157719 \nL 109.012216 35.053519 \nL 110.984943 34.328719 \nL 112.95767 31.203019 \nL 114.930398 28.938019 \nL 116.903125 27.760219 \nL 118.875852 28.077319 \nL 120.84858 29.436319 \nL 122.821307 26.582419 \nL 124.794034 30.840619 \nL 126.766761 25.585819 \nL 128.739489 27.443119 \nL 130.712216 33.105619 \nL 132.684943 28.756819 \nL 134.65767 28.167919 \nL 136.630398 24.272119 \nL 138.603125 29.572219 \nL 140.575852 36.774919 \nL 142.54858 33.921019 \nL 144.521307 26.310619 \nL 146.494034 28.938019 \nL 148.466761 25.993519 \nL 150.439489 29.436319 \nL 152.412216 26.220019 \nL 154.384943 25.449919 \nL 156.35767 28.938019 \nL 158.330398 31.565419 \nL 160.303125 27.850819 \nL 162.275852 24.996919 \nL 164.24858 26.808919 \nL 166.221307 26.355919 \nL 168.194034 26.129419 \nL 170.166761 23.773819 \nL 172.139489 27.171319 \nL 174.112216 30.704719 \nL 176.084943 36.095419 \nL 178.05767 27.352519 \nL 180.030398 23.592619 \nL 182.003125 22.641319 \nL 183.975852 22.958419 \nL 185.94858 23.184919 \nL 187.921307 23.049019 \nL 189.894034 23.683219 \nL 191.866761 23.139619 \nL 193.839489 23.003719 \nL 195.812216 44.611819 \nL 197.784943 29.209819 \nL 199.75767 25.314019 \nL 201.730398 25.314019 \nL 203.703125 29.119219 \nL 205.675852 31.429519 \nL 207.64858 25.812319 \nL 209.621307 30.614119 \nL 211.594034 26.355919 \nL 213.566761 23.275519 \nL 215.539489 23.094319 \nL 217.512216 22.867819 \nL 219.484943 22.686619 \nL 221.45767 22.369519 \nL 223.430398 23.502019 \nL 225.403125 22.867819 \n\" clip-path=\"url(#p7b7dd4c248)\" style=\"fill: none; stroke-dasharray: 5.55,2.4; stroke-dashoffset: 0; stroke: #bf00bf; stroke-width: 1.5\"/>\n   </g>\n   <g id=\"patch_3\">\n    <path d=\"M 30.103125 146.899219 \nL 30.103125 10.999219 \n\" style=\"fill: none; stroke: #000000; stroke-width: 0.8; stroke-linejoin: miter; stroke-linecap: square\"/>\n   </g>\n   <g id=\"patch_4\">\n    <path d=\"M 225.403125 146.899219 \nL 225.403125 10.999219 \n\" style=\"fill: none; stroke: #000000; stroke-width: 0.8; stroke-linejoin: miter; stroke-linecap: square\"/>\n   </g>\n   <g id=\"patch_5\">\n    <path d=\"M 30.103125 146.899219 \nL 225.403125 146.899219 \n\" style=\"fill: none; stroke: #000000; stroke-width: 0.8; stroke-linejoin: miter; stroke-linecap: square\"/>\n   </g>\n   <g id=\"patch_6\">\n    <path d=\"M 30.103125 10.999219 \nL 225.403125 10.999219 \n\" style=\"fill: none; stroke: #000000; stroke-width: 0.8; stroke-linejoin: miter; stroke-linecap: square\"/>\n   </g>\n   <g id=\"legend_1\">\n    <g id=\"patch_7\">\n     <path d=\"M 37.103125 141.899219 \nL 112.68125 141.899219 \nQ 114.68125 141.899219 114.68125 139.899219 \nL 114.68125 111.542969 \nQ 114.68125 109.542969 112.68125 109.542969 \nL 37.103125 109.542969 \nQ 35.103125 109.542969 35.103125 111.542969 \nL 35.103125 139.899219 \nQ 35.103125 141.899219 37.103125 141.899219 \nz\n\" style=\"fill: #ffffff; opacity: 0.8; stroke: #cccccc; stroke-linejoin: miter\"/>\n    </g>\n    <g id=\"line2d_25\">\n     <path d=\"M 39.103125 117.641406 \nL 49.103125 117.641406 \nL 59.103125 117.641406 \n\" style=\"fill: none; stroke: #1f77b4; stroke-width: 1.5; stroke-linecap: square\"/>\n    </g>\n    <g id=\"text_13\">\n     <!-- train acc -->\n     <g transform=\"translate(67.103125 121.141406)scale(0.1 -0.1)\">\n      <defs>\n       <path id=\"DejaVuSans-74\" d=\"M 1172 4494 \nL 1172 3500 \nL 2356 3500 \nL 2356 3053 \nL 1172 3053 \nL 1172 1153 \nQ 1172 725 1289 603 \nQ 1406 481 1766 481 \nL 2356 481 \nL 2356 0 \nL 1766 0 \nQ 1100 0 847 248 \nQ 594 497 594 1153 \nL 594 3053 \nL 172 3053 \nL 172 3500 \nL 594 3500 \nL 594 4494 \nL 1172 4494 \nz\n\" transform=\"scale(0.015625)\"/>\n       <path id=\"DejaVuSans-72\" d=\"M 2631 2963 \nQ 2534 3019 2420 3045 \nQ 2306 3072 2169 3072 \nQ 1681 3072 1420 2755 \nQ 1159 2438 1159 1844 \nL 1159 0 \nL 581 0 \nL 581 3500 \nL 1159 3500 \nL 1159 2956 \nQ 1341 3275 1631 3429 \nQ 1922 3584 2338 3584 \nQ 2397 3584 2469 3576 \nQ 2541 3569 2628 3553 \nL 2631 2963 \nz\n\" transform=\"scale(0.015625)\"/>\n       <path id=\"DejaVuSans-61\" d=\"M 2194 1759 \nQ 1497 1759 1228 1600 \nQ 959 1441 959 1056 \nQ 959 750 1161 570 \nQ 1363 391 1709 391 \nQ 2188 391 2477 730 \nQ 2766 1069 2766 1631 \nL 2766 1759 \nL 2194 1759 \nz\nM 3341 1997 \nL 3341 0 \nL 2766 0 \nL 2766 531 \nQ 2569 213 2275 61 \nQ 1981 -91 1556 -91 \nQ 1019 -91 701 211 \nQ 384 513 384 1019 \nQ 384 1609 779 1909 \nQ 1175 2209 1959 2209 \nL 2766 2209 \nL 2766 2266 \nQ 2766 2663 2505 2880 \nQ 2244 3097 1772 3097 \nQ 1472 3097 1187 3025 \nQ 903 2953 641 2809 \nL 641 3341 \nQ 956 3463 1253 3523 \nQ 1550 3584 1831 3584 \nQ 2591 3584 2966 3190 \nQ 3341 2797 3341 1997 \nz\n\" transform=\"scale(0.015625)\"/>\n       <path id=\"DejaVuSans-69\" d=\"M 603 3500 \nL 1178 3500 \nL 1178 0 \nL 603 0 \nL 603 3500 \nz\nM 603 4863 \nL 1178 4863 \nL 1178 4134 \nL 603 4134 \nL 603 4863 \nz\n\" transform=\"scale(0.015625)\"/>\n       <path id=\"DejaVuSans-6e\" d=\"M 3513 2113 \nL 3513 0 \nL 2938 0 \nL 2938 2094 \nQ 2938 2591 2744 2837 \nQ 2550 3084 2163 3084 \nQ 1697 3084 1428 2787 \nQ 1159 2491 1159 1978 \nL 1159 0 \nL 581 0 \nL 581 3500 \nL 1159 3500 \nL 1159 2956 \nQ 1366 3272 1645 3428 \nQ 1925 3584 2291 3584 \nQ 2894 3584 3203 3211 \nQ 3513 2838 3513 2113 \nz\n\" transform=\"scale(0.015625)\"/>\n       <path id=\"DejaVuSans-20\" transform=\"scale(0.015625)\"/>\n      </defs>\n      <use xlink:href=\"#DejaVuSans-74\"/>\n      <use xlink:href=\"#DejaVuSans-72\" x=\"39.208984\"/>\n      <use xlink:href=\"#DejaVuSans-61\" x=\"80.322266\"/>\n      <use xlink:href=\"#DejaVuSans-69\" x=\"141.601562\"/>\n      <use xlink:href=\"#DejaVuSans-6e\" x=\"169.384766\"/>\n      <use xlink:href=\"#DejaVuSans-20\" x=\"232.763672\"/>\n      <use xlink:href=\"#DejaVuSans-61\" x=\"264.550781\"/>\n      <use xlink:href=\"#DejaVuSans-63\" x=\"325.830078\"/>\n      <use xlink:href=\"#DejaVuSans-63\" x=\"380.810547\"/>\n     </g>\n    </g>\n    <g id=\"line2d_26\">\n     <path d=\"M 39.103125 132.319531 \nL 49.103125 132.319531 \nL 59.103125 132.319531 \n\" style=\"fill: none; stroke-dasharray: 5.55,2.4; stroke-dashoffset: 0; stroke: #bf00bf; stroke-width: 1.5\"/>\n    </g>\n    <g id=\"text_14\">\n     <!-- test acc -->\n     <g transform=\"translate(67.103125 135.819531)scale(0.1 -0.1)\">\n      <defs>\n       <path id=\"DejaVuSans-73\" d=\"M 2834 3397 \nL 2834 2853 \nQ 2591 2978 2328 3040 \nQ 2066 3103 1784 3103 \nQ 1356 3103 1142 2972 \nQ 928 2841 928 2578 \nQ 928 2378 1081 2264 \nQ 1234 2150 1697 2047 \nL 1894 2003 \nQ 2506 1872 2764 1633 \nQ 3022 1394 3022 966 \nQ 3022 478 2636 193 \nQ 2250 -91 1575 -91 \nQ 1294 -91 989 -36 \nQ 684 19 347 128 \nL 347 722 \nQ 666 556 975 473 \nQ 1284 391 1588 391 \nQ 1994 391 2212 530 \nQ 2431 669 2431 922 \nQ 2431 1156 2273 1281 \nQ 2116 1406 1581 1522 \nL 1381 1569 \nQ 847 1681 609 1914 \nQ 372 2147 372 2553 \nQ 372 3047 722 3315 \nQ 1072 3584 1716 3584 \nQ 2034 3584 2315 3537 \nQ 2597 3491 2834 3397 \nz\n\" transform=\"scale(0.015625)\"/>\n      </defs>\n      <use xlink:href=\"#DejaVuSans-74\"/>\n      <use xlink:href=\"#DejaVuSans-65\" x=\"39.208984\"/>\n      <use xlink:href=\"#DejaVuSans-73\" x=\"100.732422\"/>\n      <use xlink:href=\"#DejaVuSans-74\" x=\"152.832031\"/>\n      <use xlink:href=\"#DejaVuSans-20\" x=\"192.041016\"/>\n      <use xlink:href=\"#DejaVuSans-61\" x=\"223.828125\"/>\n      <use xlink:href=\"#DejaVuSans-63\" x=\"285.107422\"/>\n      <use xlink:href=\"#DejaVuSans-63\" x=\"340.087891\"/>\n     </g>\n    </g>\n   </g>\n  </g>\n </g>\n <defs>\n  <clipPath id=\"p7b7dd4c248\">\n   <rect x=\"30.103125\" y=\"10.999219\" width=\"195.3\" height=\"135.9\"/>\n  </clipPath>\n </defs>\n</svg>\n",
      "text/plain": [
       "<Figure size 252x180 with 1 Axes>"
      ]
     },
     "metadata": {
      "needs_background": "light"
     },
     "output_type": "display_data"
    }
   ],
   "source": [
    "train(model,train_dataloader,test_dataloader,optimizer,loss_fn,device,100)"
   ]
  }
 ],
 "metadata": {
  "interpreter": {
   "hash": "bde4835a96465dddc51ef943e55e501b327b1e74bbdbca6aeea7e7ba6a8aa5c8"
  },
  "kernelspec": {
   "display_name": "Python 3.8.12 ('pytorch')",
   "language": "python",
   "name": "python3"
  },
  "language_info": {
   "codemirror_mode": {
    "name": "ipython",
    "version": 3
   },
   "file_extension": ".py",
   "mimetype": "text/x-python",
   "name": "python",
   "nbconvert_exporter": "python",
   "pygments_lexer": "ipython3",
   "version": "3.8.13"
  },
  "orig_nbformat": 4
 },
 "nbformat": 4,
 "nbformat_minor": 2
}
